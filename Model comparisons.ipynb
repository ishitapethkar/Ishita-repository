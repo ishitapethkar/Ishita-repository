{
 "cells": [
  {
   "cell_type": "markdown",
   "metadata": {},
   "source": [
    "# Importing Libraries"
   ]
  },
  {
   "cell_type": "code",
   "execution_count": 1,
   "metadata": {},
   "outputs": [],
   "source": [
    "import time"
   ]
  },
  {
   "cell_type": "code",
   "execution_count": 2,
   "metadata": {},
   "outputs": [],
   "source": [
    "import pandas as pd\n",
    "import matplotlib.pyplot as plt"
   ]
  },
  {
   "cell_type": "code",
   "execution_count": 3,
   "metadata": {},
   "outputs": [],
   "source": [
    "from sklearn.model_selection import train_test_split\n",
    "from sklearn.model_selection import GridSearchCV\n",
    "from sklearn.model_selection import RepeatedStratifiedKFold\n",
    "from sklearn.preprocessing import OrdinalEncoder \n",
    "oe = OrdinalEncoder()"
   ]
  },
  {
   "cell_type": "code",
   "execution_count": 4,
   "metadata": {},
   "outputs": [],
   "source": [
    "from sklearn.metrics import confusion_matrix, ConfusionMatrixDisplay\n",
    "from sklearn.metrics import accuracy_score, recall_score, precision_score, f1_score"
   ]
  },
  {
   "cell_type": "code",
   "execution_count": 5,
   "metadata": {},
   "outputs": [],
   "source": [
    "import torch\n",
    "from torch.nn.functional import mse_loss"
   ]
  },
  {
   "cell_type": "markdown",
   "metadata": {},
   "source": [
    "# Task 1"
   ]
  },
  {
   "cell_type": "code",
   "execution_count": 6,
   "metadata": {},
   "outputs": [],
   "source": [
    "data = pd.read_csv('Data/Customer Churn.csv')\n",
    "data = data.drop('CustomerID',axis=1)"
   ]
  },
  {
   "cell_type": "code",
   "execution_count": 7,
   "metadata": {},
   "outputs": [],
   "source": [
    "data['Gender'] = oe.fit_transform(data[['Gender']])\n",
    "data['EmailOptIn'] = oe.fit_transform(data[['EmailOptIn']])\n",
    "data['PromotionResponse'] = oe.fit_transform(data[['PromotionResponse']])"
   ]
  },
  {
   "cell_type": "code",
   "execution_count": 8,
   "metadata": {},
   "outputs": [],
   "source": [
    "X = data.iloc[:,:-1]\n",
    "y = data.iloc[:,-1]"
   ]
  },
  {
   "cell_type": "code",
   "execution_count": 9,
   "metadata": {},
   "outputs": [],
   "source": [
    "X_train, X_test, y_train, y_test = train_test_split(\n",
    "                                        X,\n",
    "                                        y,\n",
    "                                        test_size=0.3,\n",
    "                                        stratify=X['Gender'],\n",
    "                                        random_state=1\n",
    "                                        )"
   ]
  },
  {
   "cell_type": "markdown",
   "metadata": {},
   "source": [
    "## AdaBoost Classifier"
   ]
  },
  {
   "cell_type": "code",
   "execution_count": 10,
   "metadata": {},
   "outputs": [],
   "source": [
    "from sklearn.ensemble import AdaBoostClassifier"
   ]
  },
  {
   "cell_type": "markdown",
   "metadata": {},
   "source": [
    "### Hyper Paramter Tuning"
   ]
  },
  {
   "cell_type": "code",
   "execution_count": 11,
   "metadata": {},
   "outputs": [],
   "source": [
    "model = AdaBoostClassifier()\n",
    "\n",
    "grid = {\n",
    "    'n_estimators': [50, 100, 200, 400, 800],\n",
    "    'learning_rate': [10**i for i in range(-5, 1 + 1)],\n",
    "    'algorithm': ['SAMME', 'SAMME.R'],\n",
    "}\n",
    "\n",
    "cv = RepeatedStratifiedKFold(\n",
    "    n_splits=10,\n",
    "    n_repeats=3,\n",
    "    random_state=1\n",
    "    )"
   ]
  },
  {
   "cell_type": "code",
   "execution_count": 12,
   "metadata": {},
   "outputs": [],
   "source": [
    "grid_search = GridSearchCV(\n",
    "    estimator=model,\n",
    "    param_grid=grid,\n",
    "    n_jobs=-1,\n",
    "    cv=cv,\n",
    "    scoring='accuracy'\n",
    "    )\n",
    "\n",
    "grid_result = grid_search.fit(X_train, y_train)"
   ]
  },
  {
   "cell_type": "code",
   "execution_count": 13,
   "metadata": {},
   "outputs": [
    {
     "name": "stdout",
     "output_type": "stream",
     "text": [
      "Highest Accuracy: 0.5343\n",
      "Hyper Parameter Values: {'algorithm': 'SAMME', 'learning_rate': 1e-05, 'n_estimators': 50}\n"
     ]
    }
   ],
   "source": [
    "print(f\"Highest Accuracy: {grid_result.best_score_:.4f}\")\n",
    "print(f\"Hyper Parameter Values: {grid_result.best_params_}\")"
   ]
  },
  {
   "cell_type": "markdown",
   "metadata": {},
   "source": [
    "### Final Model"
   ]
  },
  {
   "cell_type": "code",
   "execution_count": 14,
   "metadata": {},
   "outputs": [
    {
     "name": "stdout",
     "output_type": "stream",
     "text": [
      "Execution time: 0.055687904357910156 seconds\n"
     ]
    }
   ],
   "source": [
    "start_time = time.time()\n",
    "\n",
    "adb = AdaBoostClassifier(\n",
    "    n_estimators=50,\n",
    "    learning_rate=1e-5,\n",
    "    algorithm='SAMME',\n",
    "    random_state=1\n",
    "    )\n",
    "\n",
    "adb_model = adb.fit(X_train,\n",
    "                    y_train)\n",
    "\n",
    "end_time = time.time()\n",
    "execution_time = end_time - start_time\n",
    "print(\"Execution time:\", execution_time, \"seconds\")"
   ]
  },
  {
   "cell_type": "markdown",
   "metadata": {},
   "source": [
    "## Random Forest Classifier"
   ]
  },
  {
   "cell_type": "code",
   "execution_count": 15,
   "metadata": {},
   "outputs": [],
   "source": [
    "from sklearn.ensemble import RandomForestClassifier"
   ]
  },
  {
   "cell_type": "markdown",
   "metadata": {},
   "source": [
    "### Hyper Paramter Tuning"
   ]
  },
  {
   "cell_type": "code",
   "execution_count": 16,
   "metadata": {},
   "outputs": [],
   "source": [
    "model = RandomForestClassifier()\n",
    "\n",
    "grid = { \n",
    "    'n_estimators': [25 * i for i in range(1, 10 + 1)], \n",
    "    'max_features': ['sqrt', 'log2'], \n",
    "    'max_depth': [3 * i for i in range(1, 5 + 1)], \n",
    "    'max_leaf_nodes': [2, 5, 10, 20, 50], \n",
    "}\n",
    "\n",
    "cv = RepeatedStratifiedKFold(\n",
    "    n_splits=10,\n",
    "    n_repeats=3,\n",
    "    random_state=1\n",
    "    )"
   ]
  },
  {
   "cell_type": "code",
   "execution_count": 17,
   "metadata": {},
   "outputs": [],
   "source": [
    "grid_search = GridSearchCV(\n",
    "    estimator=model,\n",
    "    param_grid=grid,\n",
    "    n_jobs=-1,\n",
    "    cv=cv,\n",
    "    scoring='accuracy'\n",
    "    )\n",
    "\n",
    "grid_result = grid_search.fit(X_train, y_train)"
   ]
  },
  {
   "cell_type": "code",
   "execution_count": 19,
   "metadata": {},
   "outputs": [
    {
     "name": "stdout",
     "output_type": "stream",
     "text": [
      "Highest Accuracy: 0.5257\n",
      "Hyper Parameter Values: {'max_depth': 12, 'max_features': 'log2', 'max_leaf_nodes': 2, 'n_estimators': 200}\n"
     ]
    }
   ],
   "source": [
    "print(f\"Highest Accuracy: {grid_result.best_score_:.4f}\")\n",
    "print(f\"Hyper Parameter Values: {grid_result.best_params_}\")"
   ]
  },
  {
   "cell_type": "markdown",
   "metadata": {},
   "source": [
    "### Final Model"
   ]
  },
  {
   "cell_type": "code",
   "execution_count": 20,
   "metadata": {},
   "outputs": [
    {
     "name": "stdout",
     "output_type": "stream",
     "text": [
      "Execution time: 0.12352418899536133 seconds\n"
     ]
    }
   ],
   "source": [
    "start_time = time.time()\n",
    "\n",
    "rf = RandomForestClassifier(\n",
    "    n_estimators=200,\n",
    "    max_features='log2',\n",
    "    max_leaf_nodes=2,\n",
    "    max_depth=12,\n",
    "    random_state=1\n",
    "    )\n",
    "\n",
    "rf_model = rf.fit(X_train, y_train)\n",
    "\n",
    "end_time = time.time()\n",
    "execution_time = end_time - start_time\n",
    "print(\"Execution time:\", execution_time, \"seconds\")"
   ]
  },
  {
   "cell_type": "markdown",
   "metadata": {},
   "source": [
    "## Model Comparison"
   ]
  },
  {
   "cell_type": "code",
   "execution_count": 21,
   "metadata": {},
   "outputs": [],
   "source": [
    "pred_ada = adb_model.predict(X_test)\n",
    "pred_rf = rf_model.predict(X_test)"
   ]
  },
  {
   "cell_type": "code",
   "execution_count": 22,
   "metadata": {},
   "outputs": [
    {
     "data": {
      "image/png": "[encoded data removed]",
      "text/plain": [
       "<Figure size 1000x400 with 4 Axes>"
      ]
     },
     "metadata": {},
     "output_type": "display_data"
    }
   ],
   "source": [
    "f, axes = plt.subplots(1, 2, figsize=(10, 4))\n",
    "\n",
    "# Plot the first confusion matrix\n",
    "axes[0].set_title(\"AdaBoost Classifier\")\n",
    "cm_ada = confusion_matrix(y_test, pred_ada)\n",
    "ConfusionMatrixDisplay(cm_ada,\n",
    "                       display_labels=['False', 'True'])\\\n",
    "    .plot(\n",
    "        include_values=True,\n",
    "        ax=axes[0])\n",
    "\n",
    "# Plot the second confusion matrix\n",
    "axes[1].set_title(\"Random Forest Classifier\")\n",
    "cm_rf = confusion_matrix(y_test, pred_rf)\n",
    "ConfusionMatrixDisplay(cm_rf,\n",
    "                       display_labels=['False', 'True'])\\\n",
    "    .plot(\n",
    "        include_values=True,\n",
    "        ax=axes[1])\n",
    "\n",
    "plt.savefig('images/Task 1.png')\n",
    "plt.show()\n",
    "plt.close()"
   ]
  },
  {
   "cell_type": "code",
   "execution_count": 23,
   "metadata": {},
   "outputs": [
    {
     "name": "stdout",
     "output_type": "stream",
     "text": [
      "Accuracy:\n",
      "- AdaBoost Classifier     : 0.5433\n",
      "- Random Forest Classifier: 0.5500\n",
      "Recall:\n",
      "- AdaBoost Classifier     : 0.9877\n",
      "- Random Forest Classifier: 0.9877\n",
      "Precision:\n",
      "- AdaBoost Classifier     : 0.5424\n",
      "- Random Forest Classifier: 0.5461\n",
      "F1 Score:\n",
      "- AdaBoost Classifier     : 0.7002\n",
      "- Random Forest Classifier: 0.7033\n"
     ]
    }
   ],
   "source": [
    "print('Accuracy:')\n",
    "print(f'- AdaBoost Classifier     : {accuracy_score(y_test, pred_ada):.4f}')\n",
    "print(f'- Random Forest Classifier: {accuracy_score(y_test, pred_rf):.4f}')\n",
    "print('Recall:')\n",
    "print(f'- AdaBoost Classifier     : {recall_score(y_test, pred_ada):.4f}')\n",
    "print(f'- Random Forest Classifier: {recall_score(y_test, pred_rf):.4f}')\n",
    "print('Precision:')\n",
    "print(f'- AdaBoost Classifier     : {precision_score(y_test, pred_ada):.4f}')\n",
    "print(f'- Random Forest Classifier: {precision_score(y_test, pred_rf):.4f}')\n",
    "print('F1 Score:')\n",
    "print(f'- AdaBoost Classifier     : {f1_score(y_test, pred_ada):.4f}')\n",
    "print(f'- Random Forest Classifier: {f1_score(y_test, pred_rf):.4f}')"
   ]
  },
  {
   "cell_type": "markdown",
   "metadata": {},
   "source": [
    "# Task 2"
   ]
  },
  {
   "cell_type": "markdown",
   "metadata": {},
   "source": [
    "## Gender Predictor"
   ]
  },
  {
   "cell_type": "code",
   "execution_count": 24,
   "metadata": {},
   "outputs": [],
   "source": [
    "data = pd.read_csv('Data/Supermarket Sales.csv')"
   ]
  },
  {
   "cell_type": "code",
   "execution_count": 25,
   "metadata": {},
   "outputs": [],
   "source": [
    "data = data.drop('InvoiceID', axis=1)"
   ]
  },
  {
   "cell_type": "code",
   "execution_count": 26,
   "metadata": {},
   "outputs": [
    {
     "name": "stderr",
     "output_type": "stream",
     "text": [
      "/var/folders/r8/f01dqhx90rz4zgqvzjcy729r0000gn/T/ipykernel_17520/2097752414.py:2: SettingWithCopyWarning: \n",
      "A value is trying to be set on a copy of a slice from a DataFrame.\n",
      "Try using .loc[row_indexer,col_indexer] = value instead\n",
      "\n",
      "See the caveats in the documentation: https://pandas.pydata.org/pandas-docs/stable/user_guide/indexing.html#returning-a-view-versus-a-copy\n",
      "  X['Branch'] = oe.fit_transform(X[['Branch']])\n",
      "/var/folders/r8/f01dqhx90rz4zgqvzjcy729r0000gn/T/ipykernel_17520/2097752414.py:3: SettingWithCopyWarning: \n",
      "A value is trying to be set on a copy of a slice from a DataFrame.\n",
      "Try using .loc[row_indexer,col_indexer] = value instead\n",
      "\n",
      "See the caveats in the documentation: https://pandas.pydata.org/pandas-docs/stable/user_guide/indexing.html#returning-a-view-versus-a-copy\n",
      "  X['CustomerType'] = oe.fit_transform(X[['CustomerType']])\n",
      "/var/folders/r8/f01dqhx90rz4zgqvzjcy729r0000gn/T/ipykernel_17520/2097752414.py:4: SettingWithCopyWarning: \n",
      "A value is trying to be set on a copy of a slice from a DataFrame.\n",
      "Try using .loc[row_indexer,col_indexer] = value instead\n",
      "\n",
      "See the caveats in the documentation: https://pandas.pydata.org/pandas-docs/stable/user_guide/indexing.html#returning-a-view-versus-a-copy\n",
      "  X['ProductType'] = oe.fit_transform(X[['ProductType']])\n",
      "/var/folders/r8/f01dqhx90rz4zgqvzjcy729r0000gn/T/ipykernel_17520/2097752414.py:5: SettingWithCopyWarning: \n",
      "A value is trying to be set on a copy of a slice from a DataFrame.\n",
      "Try using .loc[row_indexer,col_indexer] = value instead\n",
      "\n",
      "See the caveats in the documentation: https://pandas.pydata.org/pandas-docs/stable/user_guide/indexing.html#returning-a-view-versus-a-copy\n",
      "  X['PaymentType'] = oe.fit_transform(X[['PaymentType']])\n"
     ]
    }
   ],
   "source": [
    "X = data[['Branch', 'CustomerType', 'ProductType', 'UnitPrice', 'Quantity', 'Tax', 'Total', 'PaymentType', 'Rating']]\n",
    "X['Branch'] = oe.fit_transform(X[['Branch']])\n",
    "X['CustomerType'] = oe.fit_transform(X[['CustomerType']])\n",
    "X['ProductType'] = oe.fit_transform(X[['ProductType']])\n",
    "X['PaymentType'] = oe.fit_transform(X[['PaymentType']])\n",
    "\n",
    "y = data['Gender']"
   ]
  },
  {
   "cell_type": "code",
   "execution_count": 27,
   "metadata": {},
   "outputs": [],
   "source": [
    "X_train, X_test, y_train, y_test = train_test_split(X,\n",
    "                                                    y,\n",
    "                                                    test_size=0.3,\n",
    "                                                    random_state=1)"
   ]
  },
  {
   "cell_type": "markdown",
   "metadata": {},
   "source": [
    "### Decision Tree Predictor"
   ]
  },
  {
   "cell_type": "code",
   "execution_count": 28,
   "metadata": {},
   "outputs": [],
   "source": [
    "from sklearn.tree import DecisionTreeClassifier"
   ]
  },
  {
   "cell_type": "markdown",
   "metadata": {},
   "source": [
    "Hyper Parameter Tuning"
   ]
  },
  {
   "cell_type": "code",
   "execution_count": 29,
   "metadata": {},
   "outputs": [],
   "source": [
    "model = DecisionTreeClassifier()\n",
    "\n",
    "grid = {\n",
    "    'max_features': ['sqrt', 'log2'], \n",
    "    'max_depth': [3, 6, 9, 15], \n",
    "    'max_leaf_nodes': [2, 5, 10], \n",
    "    'min_samples_leaf': [2, 3, 5, 8]\n",
    "    } \n",
    "\n",
    "cv = RepeatedStratifiedKFold(\n",
    "    n_splits=10,\n",
    "    n_repeats=3,\n",
    "    random_state=1\n",
    "    )"
   ]
  },
  {
   "cell_type": "code",
   "execution_count": 30,
   "metadata": {},
   "outputs": [],
   "source": [
    "grid_search = GridSearchCV(\n",
    "    estimator=model,\n",
    "    param_grid=grid,\n",
    "    n_jobs=-1,\n",
    "    cv=cv,\n",
    "    scoring='accuracy'\n",
    "    )\n",
    "\n",
    "grid_result = grid_search.fit(X_train, y_train)"
   ]
  },
  {
   "cell_type": "code",
   "execution_count": 31,
   "metadata": {},
   "outputs": [
    {
     "name": "stdout",
     "output_type": "stream",
     "text": [
      "Highest Accuracy: 0.5033\n",
      "Hyper Parameter Values: {'max_depth': 9, 'max_features': 'log2', 'max_leaf_nodes': 10, 'min_samples_leaf': 5}\n"
     ]
    }
   ],
   "source": [
    "print(f\"Highest Accuracy: {grid_result.best_score_:.4f}\")\n",
    "print(f\"Hyper Parameter Values: {grid_result.best_params_}\")"
   ]
  },
  {
   "cell_type": "markdown",
   "metadata": {},
   "source": [
    "Final Model"
   ]
  },
  {
   "cell_type": "code",
   "execution_count": 33,
   "metadata": {},
   "outputs": [
    {
     "name": "stdout",
     "output_type": "stream",
     "text": [
      "Execution Time: 0.004419803619384766\n"
     ]
    }
   ],
   "source": [
    "start_time = time.time()\n",
    "dtc = DecisionTreeClassifier(\n",
    "    max_depth=9,\n",
    "    max_features='log2',\n",
    "    max_leaf_nodes=10,\n",
    "    min_samples_leaf=5,\n",
    "    random_state=1\n",
    "    )\n",
    "\n",
    "dtc_model = dtc.fit(X_train, y_train)\n",
    "end_time = time.time()\n",
    "print(f'Execution Time: {end_time - start_time}')"
   ]
  },
  {
   "cell_type": "markdown",
   "metadata": {},
   "source": [
    "### Random Forest Predictor"
   ]
  },
  {
   "cell_type": "code",
   "execution_count": 34,
   "metadata": {},
   "outputs": [],
   "source": [
    "from sklearn.ensemble import RandomForestClassifier"
   ]
  },
  {
   "cell_type": "markdown",
   "metadata": {},
   "source": [
    "Hyper Parameter Tuning"
   ]
  },
  {
   "cell_type": "code",
   "execution_count": 35,
   "metadata": {},
   "outputs": [],
   "source": [
    "model = RandomForestClassifier()\n",
    "\n",
    "grid = { \n",
    "    'n_estimators': [50, 100, 150], \n",
    "    'max_features': ['sqrt', 'log2'], \n",
    "    'max_depth': [3, 6, 9, 15], \n",
    "    'max_leaf_nodes': [2, 5, 10], \n",
    "    } \n",
    "\n",
    "cv = RepeatedStratifiedKFold(\n",
    "    n_splits=10,\n",
    "    n_repeats=3,\n",
    "    random_state=1\n",
    "    )"
   ]
  },
  {
   "cell_type": "code",
   "execution_count": 36,
   "metadata": {},
   "outputs": [],
   "source": [
    "grid_search = GridSearchCV(\n",
    "    estimator=model,\n",
    "    param_grid=grid,\n",
    "    n_jobs=-1,\n",
    "    cv=cv,\n",
    "    scoring='accuracy'\n",
    "    )\n",
    "\n",
    "grid_result = grid_search.fit(X_train, y_train)"
   ]
  },
  {
   "cell_type": "code",
   "execution_count": 37,
   "metadata": {},
   "outputs": [
    {
     "name": "stdout",
     "output_type": "stream",
     "text": [
      "Highest Accuracy: 0.5224\n",
      "Hyper Parameter Values: {'max_depth': 6, 'max_features': 'log2', 'max_leaf_nodes': 10, 'n_estimators': 100}\n"
     ]
    }
   ],
   "source": [
    "print(f\"Highest Accuracy: {grid_result.best_score_:.4f}\")\n",
    "print(f\"Hyper Parameter Values: {grid_result.best_params_}\")"
   ]
  },
  {
   "cell_type": "markdown",
   "metadata": {},
   "source": [
    "Final Model"
   ]
  },
  {
   "cell_type": "code",
   "execution_count": 38,
   "metadata": {},
   "outputs": [
    {
     "name": "stdout",
     "output_type": "stream",
     "text": [
      "Execution Time: 0.09168171882629395\n"
     ]
    }
   ],
   "source": [
    "start_time = time.time()\n",
    "rfc = RandomForestClassifier(\n",
    "    max_depth=6,\n",
    "    max_features='log2',\n",
    "    max_leaf_nodes=10,\n",
    "    n_estimators=100,\n",
    ")\n",
    "\n",
    "rfc_model = rfc.fit(X_train, y_train)\n",
    "end_time = time.time()\n",
    "print(f'Execution Time: {end_time - start_time}')"
   ]
  },
  {
   "cell_type": "markdown",
   "metadata": {},
   "source": [
    "### Model Comparison"
   ]
  },
  {
   "cell_type": "code",
   "execution_count": 39,
   "metadata": {},
   "outputs": [],
   "source": [
    "pred_dtc = dtc_model.predict(X_test)\n",
    "pred_rfc = rfc_model.predict(X_test)"
   ]
  },
  {
   "cell_type": "code",
   "execution_count": 40,
   "metadata": {},
   "outputs": [
    {
     "data": {
      "image/png": "[encoded data removed]",
      "text/plain": [
       "<Figure size 1000x400 with 4 Axes>"
      ]
     },
     "metadata": {},
     "output_type": "display_data"
    }
   ],
   "source": [
    "f, axes = plt.subplots(1, 2, figsize=(10, 4))\n",
    "\n",
    "# Plot the first confusion matrix\n",
    "axes[0].set_title(\"Decision Tree Classifier\")\n",
    "cm_dtc = confusion_matrix(y_test, pred_dtc)\n",
    "ConfusionMatrixDisplay(cm_dtc,\n",
    "                       display_labels=['Female', 'Male'])\\\n",
    "    .plot(\n",
    "        include_values=True,\n",
    "        ax=axes[0])\n",
    "\n",
    "# Plot the second confusion matrix\n",
    "axes[1].set_title(\"Random Forest Classifier\")\n",
    "cm_rfc = confusion_matrix(y_test, pred_rfc)\n",
    "ConfusionMatrixDisplay(cm_rfc,\n",
    "                       display_labels=['Female', 'Male'])\\\n",
    "    .plot(\n",
    "        include_values=True,\n",
    "        ax=axes[1])\n",
    "\n",
    "plt.savefig('images/Task 2A.png')\n",
    "plt.show()\n",
    "plt.close()"
   ]
  },
  {
   "cell_type": "code",
   "execution_count": 41,
   "metadata": {},
   "outputs": [
    {
     "name": "stdout",
     "output_type": "stream",
     "text": [
      "Accuracy:\n",
      "- Decision Tree Classifier: 0.6000\n",
      "- Random Forest Classifier: 0.5700\n",
      "Recall:\n",
      "- Decision Tree Classifier: 0.5867\n",
      "- Random Forest Classifier: 0.5800\n",
      "Precision:\n",
      "- Decision Tree Classifier: 0.6027\n",
      "- Random Forest Classifier: 0.5686\n",
      "F1 Score:\n",
      "- Decision Tree Classifier: 0.5946\n",
      "- Random Forest Classifier: 0.5743\n"
     ]
    }
   ],
   "source": [
    "print('Accuracy:')\n",
    "print(f'- Decision Tree Classifier: {accuracy_score(y_test, y_pred=pred_dtc):.4f}')\n",
    "print(f'- Random Forest Classifier: {accuracy_score(y_test, pred_rfc):.4f}')\n",
    "print('Recall:')\n",
    "print(f\"- Decision Tree Classifier: {recall_score(y_test, pred_dtc, pos_label='Male'):.4f}\")\n",
    "print(f\"- Random Forest Classifier: {recall_score(y_test, pred_rfc, pos_label='Male'):.4f}\")\n",
    "print('Precision:')\n",
    "print(f\"- Decision Tree Classifier: {precision_score(y_test, pred_dtc, pos_label='Male'):.4f}\")\n",
    "print(f\"- Random Forest Classifier: {precision_score(y_test, pred_rfc, pos_label='Male'):.4f}\")\n",
    "print('F1 Score:')\n",
    "print(f\"- Decision Tree Classifier: {f1_score(y_test, pred_dtc, pos_label='Male'):.4f}\")\n",
    "print(f\"- Random Forest Classifier: {f1_score(y_test, pred_rfc, pos_label='Male'):.4f}\")"
   ]
  },
  {
   "cell_type": "markdown",
   "metadata": {},
   "source": [
    "## Rating Predictor"
   ]
  },
  {
   "cell_type": "code",
   "execution_count": 42,
   "metadata": {},
   "outputs": [],
   "source": [
    "data = pd.read_csv('Data/Supermarket Sales.csv')"
   ]
  },
  {
   "cell_type": "code",
   "execution_count": 43,
   "metadata": {},
   "outputs": [],
   "source": [
    "data = data.drop('InvoiceID', axis=1)"
   ]
  },
  {
   "cell_type": "code",
   "execution_count": 44,
   "metadata": {},
   "outputs": [
    {
     "name": "stderr",
     "output_type": "stream",
     "text": [
      "/var/folders/r8/f01dqhx90rz4zgqvzjcy729r0000gn/T/ipykernel_17520/1179788602.py:2: SettingWithCopyWarning: \n",
      "A value is trying to be set on a copy of a slice from a DataFrame.\n",
      "Try using .loc[row_indexer,col_indexer] = value instead\n",
      "\n",
      "See the caveats in the documentation: https://pandas.pydata.org/pandas-docs/stable/user_guide/indexing.html#returning-a-view-versus-a-copy\n",
      "  X['Branch'] = oe.fit_transform(X[['Branch']])\n",
      "/var/folders/r8/f01dqhx90rz4zgqvzjcy729r0000gn/T/ipykernel_17520/1179788602.py:3: SettingWithCopyWarning: \n",
      "A value is trying to be set on a copy of a slice from a DataFrame.\n",
      "Try using .loc[row_indexer,col_indexer] = value instead\n",
      "\n",
      "See the caveats in the documentation: https://pandas.pydata.org/pandas-docs/stable/user_guide/indexing.html#returning-a-view-versus-a-copy\n",
      "  X['CustomerType'] = oe.fit_transform(X[['CustomerType']])\n",
      "/var/folders/r8/f01dqhx90rz4zgqvzjcy729r0000gn/T/ipykernel_17520/1179788602.py:4: SettingWithCopyWarning: \n",
      "A value is trying to be set on a copy of a slice from a DataFrame.\n",
      "Try using .loc[row_indexer,col_indexer] = value instead\n",
      "\n",
      "See the caveats in the documentation: https://pandas.pydata.org/pandas-docs/stable/user_guide/indexing.html#returning-a-view-versus-a-copy\n",
      "  X['ProductType'] = oe.fit_transform(X[['ProductType']])\n",
      "/var/folders/r8/f01dqhx90rz4zgqvzjcy729r0000gn/T/ipykernel_17520/1179788602.py:5: SettingWithCopyWarning: \n",
      "A value is trying to be set on a copy of a slice from a DataFrame.\n",
      "Try using .loc[row_indexer,col_indexer] = value instead\n",
      "\n",
      "See the caveats in the documentation: https://pandas.pydata.org/pandas-docs/stable/user_guide/indexing.html#returning-a-view-versus-a-copy\n",
      "  X['PaymentType'] = oe.fit_transform(X[['PaymentType']])\n",
      "/var/folders/r8/f01dqhx90rz4zgqvzjcy729r0000gn/T/ipykernel_17520/1179788602.py:6: SettingWithCopyWarning: \n",
      "A value is trying to be set on a copy of a slice from a DataFrame.\n",
      "Try using .loc[row_indexer,col_indexer] = value instead\n",
      "\n",
      "See the caveats in the documentation: https://pandas.pydata.org/pandas-docs/stable/user_guide/indexing.html#returning-a-view-versus-a-copy\n",
      "  X['Gender'] = oe.fit_transform(X[['Gender']])\n"
     ]
    }
   ],
   "source": [
    "X = data[['Branch', 'CustomerType', 'ProductType', 'UnitPrice', 'Quantity', 'Tax', 'Total', 'PaymentType', 'Gender']]\n",
    "X['Branch'] = oe.fit_transform(X[['Branch']])\n",
    "X['CustomerType'] = oe.fit_transform(X[['CustomerType']])\n",
    "X['ProductType'] = oe.fit_transform(X[['ProductType']])\n",
    "X['PaymentType'] = oe.fit_transform(X[['PaymentType']])\n",
    "X['Gender'] = oe.fit_transform(X[['Gender']])\n",
    "\n",
    "y = data['Rating']"
   ]
  },
  {
   "cell_type": "code",
   "execution_count": 45,
   "metadata": {},
   "outputs": [],
   "source": [
    "X_train, X_test, y_train, y_test = train_test_split(X,\n",
    "                                                    y,\n",
    "                                                    test_size=0.3,\n",
    "                                                    random_state=1)"
   ]
  },
  {
   "cell_type": "markdown",
   "metadata": {},
   "source": [
    "### Linear Regression"
   ]
  },
  {
   "cell_type": "code",
   "execution_count": 46,
   "metadata": {},
   "outputs": [],
   "source": [
    "from sklearn.linear_model import LinearRegression"
   ]
  },
  {
   "cell_type": "markdown",
   "metadata": {},
   "source": [
    "Final Model"
   ]
  },
  {
   "cell_type": "code",
   "execution_count": 49,
   "metadata": {},
   "outputs": [
    {
     "name": "stdout",
     "output_type": "stream",
     "text": [
      "Execution Time: 0.0016798973083496094\n"
     ]
    }
   ],
   "source": [
    "start_time = time.time()\n",
    "lin_reg = LinearRegression()\n",
    "lin_reg.fit(X_train, y_train)\n",
    "end_time = time.time()\n",
    "print(f'Execution Time: {end_time - start_time}')"
   ]
  },
  {
   "cell_type": "code",
   "execution_count": 50,
   "metadata": {},
   "outputs": [
    {
     "name": "stdout",
     "output_type": "stream",
     "text": [
      "Intercept: 6.547981457474257\n",
      "Coefficients: [ 5.66160866e-02 -1.27878875e-02 -1.16013065e-02  8.59907186e-03\n",
      "  1.00556066e-01 -9.26284356e-05 -1.94519715e-03  2.41954803e-02\n",
      " -7.19095053e-02]\n"
     ]
    }
   ],
   "source": [
    "print(f\"Intercept: {lin_reg.intercept_}\")\n",
    "print(f\"Coefficients: {lin_reg.coef_}\")"
   ]
  },
  {
   "cell_type": "markdown",
   "metadata": {},
   "source": [
    "### Decison Tree Regressor"
   ]
  },
  {
   "cell_type": "code",
   "execution_count": 51,
   "metadata": {},
   "outputs": [],
   "source": [
    "from sklearn.tree import DecisionTreeRegressor"
   ]
  },
  {
   "cell_type": "markdown",
   "metadata": {},
   "source": [
    "Hyper Parameter Tuning"
   ]
  },
  {
   "cell_type": "code",
   "execution_count": 58,
   "metadata": {},
   "outputs": [],
   "source": [
    "model = DecisionTreeRegressor()\n",
    "\n",
    "grid = {\n",
    "    \"splitter\":[\"best\", \"random\"],\n",
    "    \"max_depth\" : [3, 6, 9, 15],\n",
    "    \"min_samples_leaf\":[2, 5, 10],\n",
    "    \"min_weight_fraction_leaf\":[0.1 * i for i in range(1, 5 + 1)],\n",
    "    \"max_features\":[\"log2\", \"sqrt\"],\n",
    "    \"max_leaf_nodes\":[2, 5, 10]\n",
    "    }"
   ]
  },
  {
   "cell_type": "code",
   "execution_count": 59,
   "metadata": {},
   "outputs": [],
   "source": [
    "grid_search = GridSearchCV(\n",
    "    estimator=model,\n",
    "    param_grid=grid,\n",
    "    scoring='neg_mean_squared_error'\n",
    "    )\n",
    "\n",
    "grid_result = grid_search.fit(X_train, y_train)"
   ]
  },
  {
   "cell_type": "code",
   "execution_count": 60,
   "metadata": {},
   "outputs": [
    {
     "name": "stdout",
     "output_type": "stream",
     "text": [
      "Highest Accuracy: -2.933370800444673\n",
      "Hyper Parameter Values: {'max_depth': 3, 'max_features': 'log2', 'max_leaf_nodes': 2, 'min_samples_leaf': 2, 'min_weight_fraction_leaf': 0.2, 'splitter': 'random'}\n"
     ]
    }
   ],
   "source": [
    "print(f\"Highest Accuracy: {grid_result.best_score_}\")\n",
    "print(f\"Hyper Parameter Values: {grid_result.best_params_}\")"
   ]
  },
  {
   "cell_type": "markdown",
   "metadata": {},
   "source": [
    "Final Model"
   ]
  },
  {
   "cell_type": "code",
   "execution_count": 61,
   "metadata": {},
   "outputs": [
    {
     "name": "stdout",
     "output_type": "stream",
     "text": [
      "Execution Time: 0.0029401779174804688\n"
     ]
    }
   ],
   "source": [
    "\n",
    "start_time = time.time()\n",
    "dt_reg = DecisionTreeRegressor(\n",
    "    max_depth=15,\n",
    "    max_features='log2',\n",
    "    max_leaf_nodes=2,\n",
    "    min_samples_leaf=2,\n",
    "    min_weight_fraction_leaf=0.2,\n",
    "    splitter='random',\n",
    "    random_state=1)\n",
    "\n",
    "dt_reg.fit(X_train, y_train)\n",
    "end_time = time.time()\n",
    "print(f'Execution Time: {end_time - start_time}')"
   ]
  },
  {
   "cell_type": "markdown",
   "metadata": {},
   "source": [
    "### Model Comparison"
   ]
  },
  {
   "cell_type": "code",
   "execution_count": 64,
   "metadata": {},
   "outputs": [],
   "source": [
    "pred_lr = lin_reg.predict(X_test)\n",
    "pred_dtr = dt_reg.predict(X_test)"
   ]
  },
  {
   "cell_type": "code",
   "execution_count": 66,
   "metadata": {},
   "outputs": [
    {
     "name": "stdout",
     "output_type": "stream",
     "text": [
      "RMSE Loss:\n",
      "- Linear Regression      : 1.7418664693832397\n",
      "- Decision Tree Regressor: 1.7256680727005005\n"
     ]
    }
   ],
   "source": [
    "print('RMSE Loss:')\n",
    "print(f'- Linear Regression      : {mse_loss(input=torch.Tensor(pred_lr), target=torch.Tensor(y_test.values)) ** 0.5}')\n",
    "print(f'- Decision Tree Regressor: {mse_loss(input=torch.Tensor(pred_dtr), target=torch.Tensor(y_test.values)) ** 0.5}')"
   ]
  }
 ],
 "metadata": {
  "kernelspec": {
   "display_name": "dmml",
   "language": "python",
   "name": "python3"
  },
  "language_info": {
   "codemirror_mode": {
    "name": "ipython",
    "version": 3
   },
   "file_extension": ".py",
   "mimetype": "text/x-python",
   "name": "python",
   "nbconvert_exporter": "python",
   "pygments_lexer": "ipython3",
   "version": "3.11.8"
  }
 },
 "nbformat": 4,
 "nbformat_minor": 2
}
